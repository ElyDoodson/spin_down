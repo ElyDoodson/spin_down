{
 "cells": [
  {
   "cell_type": "code",
   "execution_count": null,
   "metadata": {},
   "outputs": [],
   "source": [
    "import pandas as pd\n",
    "import numpy as np\n",
    "import matplotlib.pyplot as plt\n",
    "\"\"\"\n",
    "from os import listdir\n",
    "import pandas as pd\n",
    "\n",
    "\n",
    "# Don't forget the trailing '/'\n",
    "source = \"data/in/here/\"\n",
    "data_frames = [\n",
    "    pd.read_csv(source + file_name, encoding=\"utf-8\", delimiter=\"\\t\")\n",
    "    for file_name in listdir(source)\n",
    "    if \"~\" in file_name\n",
    "]\n",
    "\"\"\"\n",
    "df1 = pd.read_csv(\"d:data\\Praesepe_K2.csv\",  encoding = \"utf-8\", delimiter = \"\\t\")\n",
    "df2 = pd.read_csv(\"d:data\\hPer.csv\",  encoding = \"utf-8\", delimiter = \"\\t\")\n",
    "df3 = pd.read_csv(\"d:data\\Hyades_K2.csv\",  encoding = \"utf-8\", delimiter = \"\\t\")\n",
    "df4 = pd.read_csv(\"d:data\\Pleiades_Hartman.csv\",  encoding = \"utf-8\", delimiter = \"\\t\", skiprows = 1)\n",
    "df5 = pd.read_csv(\"d:data\\M37_Hartman.csv\",  encoding = \"utf-8\", delimiter = \"\\t\")\n",
    "\n",
    "fig, ax = plt.subplots(2, 3, sharex='col', sharey='row', figsize = (6,3))\n",
    "for datum in [df1,df2,df3,df4]:\n",
    "    \n",
    "    \n",
    "    mass = datum.M.tolist()\n",
    "    period = datum.Per.tolist()\n",
    "    for i in range(5):\n",
    "        r,c = divmod(i,3)\n",
    "        print(r,cc)\n",
    "        ax[r][c].plot(mass, period, linestyle = \"none\", marker = \"x\")\n",
    "        \n",
    "ax[1][0].invert_xaxis()\n",
    "fig\n",
    "# mass = df1.M.tolist()\n",
    "# period = df1.Per.tolist()\n",
    "\n",
    "# fig, ax = plt.subplots(2, 3, sharex='col', sharey='row', figsize = (6,3))\n",
    "# ax[0][0].plot(mass, period, linestyle = \"none\", marker = \"x\")\n",
    "# ax[1][0].invert_xaxis()\n",
    "\n",
    "# df.head()\n",
    "\n"
   ]
  },
  {
   "cell_type": "code",
   "execution_count": null,
   "metadata": {},
   "outputs": [],
   "source": []
  }
 ],
 "metadata": {
  "kernelspec": {
   "display_name": "Python 3",
   "language": "python",
   "name": "python3"
  },
  "language_info": {
   "codemirror_mode": {
    "name": "ipython",
    "version": 3
   },
   "file_extension": ".py",
   "mimetype": "text/x-python",
   "name": "python",
   "nbconvert_exporter": "python",
   "pygments_lexer": "ipython3",
   "version": "3.7.2"
  }
 },
 "nbformat": 4,
 "nbformat_minor": 2
}
