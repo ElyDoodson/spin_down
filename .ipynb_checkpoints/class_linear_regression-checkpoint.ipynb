{
 "cells": [
  {
   "cell_type": "code",
   "execution_count": 34,
   "metadata": {},
   "outputs": [
    {
     "ename": "SyntaxError",
     "evalue": "invalid syntax (<ipython-input-34-c51a523a4d09>, line 76)",
     "output_type": "error",
     "traceback": [
      "\u001b[1;36m  File \u001b[1;32m\"<ipython-input-34-c51a523a4d09>\"\u001b[1;36m, line \u001b[1;32m76\u001b[0m\n\u001b[1;33m    square_error = np.sum(np.square(predicted_period - period)) /\u001b[0m\n\u001b[1;37m                                                                  ^\u001b[0m\n\u001b[1;31mSyntaxError\u001b[0m\u001b[1;31m:\u001b[0m invalid syntax\n"
     ]
    }
   ],
   "source": [
    "import pandas as pd\n",
    "import numpy as np\n",
    "import matplotlib.pyplot as plt\n",
    "from os import listdir\n",
    "from scipy.stats import linregress\n",
    "\n",
    "class Star:\n",
    "    \n",
    "    \n",
    "    def __init__(self, period, mass, group):\n",
    "        self.period = period\n",
    "        self.mass = mass\n",
    "        self.group = group\n",
    "        self.predicted_period \n",
    "        \n",
    "    def calculate_line(self, slope, domain, intercept):\n",
    "        return np.add(np.dot(slope,domain), intercept)\n",
    "    \n",
    "def get_data(location):\n",
    "    \"\"\"\n",
    "    Takes string as input and returns a list of Star objects\n",
    "    \"\"\"\n",
    "    data_frame = pd.read_csv(location, encoding = \"utf-8\", delimiter = \"\\t\", comment = \"#\")\n",
    "\n",
    "    mass = data_frame.M.tolist()\n",
    "    period = data_frame.Per.tolist()\n",
    "    \n",
    "    return [Star(period, mass, 0) for mass, period in zip(mass,period)]\n",
    "\n",
    "\n",
    "def calculate_line(m,x,c):\n",
    "    return np.add(np.dot(m,x), c)\n",
    "\n",
    "\n",
    "def partition(predicate, collection):\n",
    "    \"\"\"\n",
    "    Split the collection into two sets, one containing those items for which\n",
    "    the predicate evaluates to True, and the other for which they are False.\n",
    "    \"\"\"\n",
    "    if isinstance(collection, list):\n",
    "        positives, negatives = [], []\n",
    "        for item in collection:\n",
    "            if predicate(item):\n",
    "                positives.append(item)\n",
    "            else:\n",
    "                negatives.append(item)\n",
    "    elif isinstance(collection, set):\n",
    "        positives, negatives = set(), set()\n",
    "        for item in collection:\n",
    "            if predicate(item):\n",
    "                positives.add(item)\n",
    "            else:\n",
    "                negatives.add(item)\n",
    "    elif isinstance(collection, dict):\n",
    "        positives, negatives = {}, {}\n",
    "        for k, v in collection.items():\n",
    "            if predicate(v):\n",
    "                positives[k] = v\n",
    "            else:\n",
    "                negatives[k] = v\n",
    "    else:\n",
    "        return collection, None if predicate(collection) else None, collection\n",
    "    return positives, negatives\n",
    "\n",
    "\n",
    "def fit_stars(star_list):\n",
    "    for star in star_list:\n",
    "        mass = [star.mass for star in star_list]\n",
    "        period = [star.period for star in star_list]\n",
    "        \n",
    "    slope, intercept = linregress(mass,period)[:2]\n",
    "    if star_list[0].group == 0:\n",
    "        slope = 0\n",
    "    predicted_period = calculate_line(slope, mass, intercept)\n",
    "    \n",
    "    \n",
    "    \n",
    "    \n",
    "        "
   ]
  },
  {
   "cell_type": "code",
   "execution_count": 32,
   "metadata": {},
   "outputs": [
    {
     "data": {
      "text/plain": [
       "<matplotlib.collections.PathCollection at 0x166e3330>"
      ]
     },
     "execution_count": 32,
     "metadata": {},
     "output_type": "execute_result"
    },
    {
     "data": {
      "image/png": "[encoded data removed]",
      "text/plain": [
       "<Figure size 432x288 with 1 Axes>"
      ]
     },
     "metadata": {
      "needs_background": "light"
     },
     "output_type": "display_data"
    }
   ],
   "source": [
    "path = \"d:data\\Pleiades_Hartman.csv\"\n",
    "# path = \"/home/edoodson/Documents/spin_down/data/Pleiades_Hartman.csv\"\n",
    "\n",
    "\n",
    "stars = get_data(path)\n",
    "\n",
    "#for loop that assigns the values, above this random line, to group 1\n",
    "for datum in stars:\n",
    "    if datum.period >= calculate_line(0, datum.mass, 7):\n",
    "        datum.group = 1\n",
    "\n",
    "#splits the stars into two lists, with fast and slow rotators\n",
    "upper_stars, lower_stars = partition( lambda x: x.group == 1, stars)\n",
    "\n",
    "plt.scatter([datum.mass for datum in upper_stars], [datum.period for datum in upper_stars])"
   ]
  }
 ],
 "metadata": {
  "kernelspec": {
   "display_name": "Python 3",
   "language": "python",
   "name": "python3"
  },
  "language_info": {
   "codemirror_mode": {
    "name": "ipython",
    "version": 3
   },
   "file_extension": ".py",
   "mimetype": "text/x-python",
   "name": "python",
   "nbconvert_exporter": "python",
   "pygments_lexer": "ipython3",
   "version": "3.7.2"
  }
 },
 "nbformat": 4,
 "nbformat_minor": 2
}
