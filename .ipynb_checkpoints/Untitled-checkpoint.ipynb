{
 "cells": [
  {
   "cell_type": "code",
   "execution_count": null,
   "metadata": {},
   "outputs": [],
   "source": [
    "import pandas as pd\n",
    "import numpy as np\n",
    "import matplotlib.pyplot as plt\n",
    "from os import listdir\n",
    "from scipy.stats import linregress\n",
    "\n",
    "\n",
    "\n",
    "class Star:\n",
    "    \n",
    "    def __init__(self, period, mass):\n",
    "        self.period = period\n",
    "        self.mass = mass\n",
    "        #abritrary horizontal line, set to (-5,,7) for rough equal data sp\n",
    "        self.group = 1 if self.period >= calculate_line(0, self.mass, 7):"
   ]
  }
 ],
 "metadata": {
  "kernelspec": {
   "display_name": "Python 3",
   "language": "python",
   "name": "python3"
  },
  "language_info": {
   "codemirror_mode": {
    "name": "ipython",
    "version": 3
   },
   "file_extension": ".py",
   "mimetype": "text/x-python",
   "name": "python",
   "nbconvert_exporter": "python",
   "pygments_lexer": "ipython3",
   "version": "3.7.3"
  }
 },
 "nbformat": 4,
 "nbformat_minor": 2
}
